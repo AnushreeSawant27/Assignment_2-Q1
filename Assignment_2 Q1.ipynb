{
 "cells": [
  {
   "cell_type": "markdown",
   "id": "58aefb35",
   "metadata": {},
   "source": [
    "# Write a Python program to get a list, sorted in increasing order by the last element in each tuple from a given list of non-empty tuples"
   ]
  },
  {
   "cell_type": "code",
   "execution_count": 6,
   "id": "0e711dac",
   "metadata": {},
   "outputs": [
    {
     "name": "stdout",
     "output_type": "stream",
     "text": [
      "Sorted List: [(2, 1), (1, 2), (2, 3), (4, 4), (2, 5)]\n"
     ]
    }
   ],
   "source": [
    "sample_list = [(2, 5), (1, 2), (4, 4), (2, 3), (2, 1)]\n",
    "tup_key = lambda x: x[-1]\n",
    "sort_list = sorted(sample_list, key = tup_key)\n",
    "print('Sorted List:', sort_list)\n"
   ]
  },
  {
   "cell_type": "code",
   "execution_count": null,
   "id": "828097fc",
   "metadata": {},
   "outputs": [],
   "source": []
  }
 ],
 "metadata": {
  "kernelspec": {
   "display_name": "Python 3 (ipykernel)",
   "language": "python",
   "name": "python3"
  },
  "language_info": {
   "codemirror_mode": {
    "name": "ipython",
    "version": 3
   },
   "file_extension": ".py",
   "mimetype": "text/x-python",
   "name": "python",
   "nbconvert_exporter": "python",
   "pygments_lexer": "ipython3",
   "version": "3.9.12"
  }
 },
 "nbformat": 4,
 "nbformat_minor": 5
}
